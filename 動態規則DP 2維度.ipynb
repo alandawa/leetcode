{
 "cells": [
  {
   "cell_type": "markdown",
   "metadata": {},
   "source": [
    "# 動態規劃問題拆解\n",
    "\n",
    "動態規劃（DP）通過將複雜問題拆解為更小的子問題來簡化問題。以下是如何拆解問題的具體步驟和示例：\n"
   ]
  },
  {
   "cell_type": "markdown",
   "metadata": {},
   "source": [
    "----------------------"
   ]
  },
  {
   "cell_type": "markdown",
   "metadata": {},
   "source": [
    "## 1. 網格唯一路徑問題（Grid Unique Paths）\n",
    "\n",
    "**問題描述**:\n",
    "- 在一個 \\( m \\times n \\) 的網格中，計算從左上角 (0,0) 到右下角 (m-1, n-1) 的唯一路徑數量。你只能向下或向右移動。\n",
    "\n",
    "### 拆解步驟\n",
    "\n",
    "| 步驟          | 描述                                                      |\n",
    "|---------------|-----------------------------------------------------------|\n",
    "| **定義狀態**   | 設 `dp[i][j]` 為從 (0,0) 到 (i,j) 的唯一路徑數量。           |\n",
    "| **狀態轉移方程** | 到達 (i,j) 的路徑可以來自 (i-1,j) 或 (i,j-1)：<br> $$ dp[i][j] = dp[i-1][j] + dp[i][j-1] $$ |\n",
    "| **初始化**     | 第一行和第一列的每個格子只有一條路徑到達：<br> $$ dp[i][0] = 1 \\quad \\text{for all } i $$ <br> $$ dp[0][j] = 1 \\quad \\text{for all } j $$ |\n",
    "| **計算結果**   | 填充 `dp` 表格，最終結果在 `dp[m-1][n-1]` 中。                |\n",
    "\n"
   ]
  },
  {
   "cell_type": "markdown",
   "metadata": {},
   "source": [
    "#### Java 實現"
   ]
  },
  {
   "cell_type": "markdown",
   "metadata": {},
   "source": [
    "```java\n",
    "public class Solution {\n",
    "    public int uniquePaths(int m, int n) {\n",
    "        int[][] dp = new int[m][n];\n",
    "        \n",
    "        // 初始化第一行和第一列\n",
    "        for (int i = 0; i < m; i++) {\n",
    "            dp[i][0] = 1;\n",
    "        }\n",
    "        for (int j = 0; j < n; j++) {\n",
    "            dp[0][j] = 1;\n",
    "        }\n",
    "        \n",
    "        // 填充 dp 表格\n",
    "        for (int i = 1; i < m; i++) {\n",
    "            for (int j = 1; j < n; j++) {\n",
    "                dp[i][j] = dp[i - 1][j] + dp[i][j - 1];\n",
    "            }\n",
    "        }\n",
    "        \n",
    "        return dp[m - 1][n - 1];\n",
    "    }\n",
    "\n",
    "    public static void main(String[] args) {\n",
    "        Solution solution = new Solution();\n",
    "        int m = 3;\n",
    "        int n = 7;\n",
    "        System.out.println(\"Unique Paths: \" + solution.uniquePaths(m, n));\n",
    "    }\n",
    "}\n"
   ]
  },
  {
   "cell_type": "markdown",
   "metadata": {},
   "source": [
    "#### Python 實現"
   ]
  },
  {
   "cell_type": "code",
   "execution_count": 2,
   "metadata": {},
   "outputs": [
    {
     "name": "stdout",
     "output_type": "stream",
     "text": [
      "Unique Paths: 28\n"
     ]
    }
   ],
   "source": [
    "class Solution:\n",
    "    def uniquePaths(self, m: int, n: int) -> int:\n",
    "        # 初始化 dp 表格\n",
    "        dp = [[1] * n for _ in range(m)]\n",
    "        \n",
    "        # 填充 dp 表格\n",
    "        for i in range(1, m):\n",
    "            for j in range(1, n):\n",
    "                dp[i][j] = dp[i - 1][j] + dp[i][j - 1]\n",
    "        \n",
    "        return dp[m - 1][n - 1]\n",
    "\n",
    "# 測試\n",
    "solution = Solution()\n",
    "m = 3\n",
    "n = 7\n",
    "print(\"Unique Paths:\", solution.uniquePaths(m, n))\n"
   ]
  },
  {
   "cell_type": "markdown",
   "metadata": {},
   "source": [
    "------------------------------------------------------------------------------"
   ]
  },
  {
   "cell_type": "markdown",
   "metadata": {},
   "source": [
    "\n",
    "## 2. 背包問題（Knapsack Problem）\n",
    "\n",
    "**問題描述**:\n",
    "- 給定一個背包，容量為 \\( W \\)，還有 \\( N \\) 個物品，每個物品有重量和價值。計算在不超過背包容量的情況下，能夠獲得的最大總價值。\n",
    "\n",
    "### 拆解步驟\n",
    "\n",
    "| 步驟          | 描述                                                      |\n",
    "|---------------|-----------------------------------------------------------|\n",
    "| **定義狀態**   | 設 `dp[i][w]` 為前 \\( i \\) 個物品中，容量為 \\( w \\) 的背包能獲得的最大價值。 |\n",
    "| **狀態轉移方程** | 對於每個物品 \\( i \\) 和每個容量 \\( w \\)，有兩種選擇： <br> 不放第 \\( i \\) 個物品：`dp[i][w] = dp[i-1][w]`  <br> 放第 \\( i \\) 個物品：`dp[i][w] = dp[i-1][w-weight[i]] + value[i]` <br> 合併兩者：<br> $$ dp[i][w] = \\max(dp[i-1][w], dp[i-1][w-weight[i]] + value[i]) $$ |\n",
    "| **初始化**     | `dp[0][w] = 0`，這表示不考慮任何物品時的最大價值為 0。      |\n",
    "| **計算結果**   | 填充 `dp` 表格，最終結果在 `dp[N][W]` 中。                |\n",
    "\n"
   ]
  },
  {
   "cell_type": "markdown",
   "metadata": {},
   "source": [
    "#### Java 實現\n",
    "\n",
    "```java\n",
    "public class KnapsackSolution {\n",
    "    public int knapsack(int W, int[] weights, int[] values) {\n",
    "        int n = weights.length;\n",
    "        int[][] dp = new int[n + 1][W + 1];\n",
    "        \n",
    "        // 填充 dp 表格\n",
    "        for (int i = 1; i <= n; i++) {\n",
    "            for (int w = 0; w <= W; w++) {\n",
    "                if (weights[i - 1] <= w) {\n",
    "                    dp[i][w] = Math.max(dp[i - 1][w], dp[i - 1][w - weights[i - 1]] + values[i - 1]);\n",
    "                } else {\n",
    "                    dp[i][w] = dp[i - 1][w];\n",
    "                }\n",
    "            }\n",
    "        }\n",
    "        \n",
    "        return dp[n][W];\n",
    "    }\n",
    "\n",
    "    public static void main(String[] args) {\n",
    "        KnapsackSolution solution = new KnapsackSolution();\n",
    "        int W = 50; // 背包容量\n",
    "        int[] weights = {10, 20, 30}; // 物品的重量\n",
    "        int[] values = {60, 100, 120}; // 物品的價值\n",
    "        System.out.println(\"Maximum Value: \" + solution.knapsack(W, weights, values));\n",
    "    }\n",
    "}\n",
    "```"
   ]
  },
  {
   "cell_type": "markdown",
   "metadata": {},
   "source": [
    "#### Python 實現"
   ]
  },
  {
   "cell_type": "code",
   "execution_count": 3,
   "metadata": {},
   "outputs": [
    {
     "name": "stdout",
     "output_type": "stream",
     "text": [
      "Maximum Value: 220\n"
     ]
    }
   ],
   "source": [
    "class KnapsackSolution:\n",
    "    def knapsack(self, W: int, weights: list[int], values: list[int]) -> int:\n",
    "        n = len(weights)\n",
    "        dp = [[0] * (W + 1) for _ in range(n + 1)]\n",
    "        \n",
    "        # 填充 dp 表格\n",
    "        for i in range(1, n + 1):\n",
    "            for w in range(W + 1):\n",
    "                if weights[i - 1] <= w:\n",
    "                    dp[i][w] = max(dp[i - 1][w], dp[i - 1][w - weights[i - 1]] + values[i - 1])\n",
    "                else:\n",
    "                    dp[i][w] = dp[i - 1][w]\n",
    "        \n",
    "        return dp[n][W]\n",
    "\n",
    "# 測試\n",
    "solution = KnapsackSolution()\n",
    "W = 50 # 背包容量\n",
    "weights = [10, 20, 30] # 物品的重量\n",
    "values = [60, 100, 120] # 物品的價值\n",
    "print(\"Maximum Value:\", solution.knapsack(W, weights, values))\n"
   ]
  },
  {
   "cell_type": "markdown",
   "metadata": {},
   "source": [
    "------------------------------------"
   ]
  },
  {
   "cell_type": "markdown",
   "metadata": {},
   "source": [
    "## 3. 最長公共子序列（Longest Common Subsequence, LCS）\n",
    "\n",
    "**問題描述**:\n",
    "- 給定兩個字符串，計算它們的最長公共子序列的長度。\n",
    "\n",
    "### 拆解步驟\n",
    "\n",
    "| 步驟          | 描述                                                      |\n",
    "|---------------|-----------------------------------------------------------|\n",
    "| **定義狀態**   | 設 `dp[i][j]` 為前 \\( i \\) 個字符的第一個字符串和前 \\( j \\) 個字符的第二個字符串的最長公共子序列的長度。 |\n",
    "| **狀態轉移方程** | 如果字符 `str1[i-1]` 和 `str2[j-1]` 相同：<br> $$ dp[i][j] = dp[i-1][j-1] + 1 $$ <br> 如果字符不同：<br> $$ dp[i][j] = \\max(dp[i-1][j], dp[i][j-1]) $$ |\n",
    "| **初始化**     | `dp[i][0] = 0` 和 `dp[0][j] = 0`，當任意一個字符串的長度為 0 時，最長公共子序列長度為 0。 |\n",
    "| **計算結果**   | 填充 `dp` 表格，最終結果在 `dp[m][n]` 中，其中 \\( m \\) 和 \\( n \\) 分別是兩個字符串的長度。 |\n",
    "\n"
   ]
  },
  {
   "cell_type": "markdown",
   "metadata": {},
   "source": [
    "#### Java 實現"
   ]
  },
  {
   "cell_type": "markdown",
   "metadata": {},
   "source": [
    "```java\n",
    "public class LCSolution {\n",
    "    public int longestCommonSubsequence(String text1, String text2) {\n",
    "        int m = text1.length();\n",
    "        int n = text2.length();\n",
    "        int[][] dp = new int[m + 1][n + 1];\n",
    "        \n",
    "        // 填充 dp 表格\n",
    "        for (int i = 1; i <= m; i++) {\n",
    "            for (int j = 1; j <= n; j++) {\n",
    "                if (text1.charAt(i - 1) == text2.charAt(j - 1)) {\n",
    "                    dp[i][j] = dp[i - 1][j - 1] + 1;\n",
    "                } else {\n",
    "                    dp[i][j] = Math.max(dp[i - 1][j], dp[i][j - 1]);\n",
    "                }\n",
    "            }\n",
    "        }\n",
    "        \n",
    "        return dp[m][n];\n",
    "    }\n",
    "\n",
    "    public static void main(String[] args) {\n",
    "        LCSolution solution = new LCSolution();\n",
    "        String text1 = \"abcde\";\n",
    "        String text2 = \"ace\";\n",
    "        System.out.println(\"Longest Common Subsequence Length: \" + solution.longestCommonSubsequence(text1, text2));\n",
    "    }\n",
    "}\n",
    "```"
   ]
  },
  {
   "cell_type": "code",
   "execution_count": 5,
   "metadata": {
    "vscode": {
     "languageId": "javascript"
    }
   },
   "outputs": [
    {
     "ename": "SyntaxError",
     "evalue": "invalid syntax (3670626600.py, line 1)",
     "output_type": "error",
     "traceback": [
      "\u001b[1;36m  Cell \u001b[1;32mIn[5], line 1\u001b[1;36m\u001b[0m\n\u001b[1;33m    public class LCSolution {\u001b[0m\n\u001b[1;37m           ^\u001b[0m\n\u001b[1;31mSyntaxError\u001b[0m\u001b[1;31m:\u001b[0m invalid syntax\n"
     ]
    }
   ],
   "source": [
    "public class LCSolution {\n",
    "    public int longestCommonSubsequence(String text1, String text2) {\n",
    "        int m = text1.length();\n",
    "        int n = text2.length();\n",
    "        int[][] dp = new int[m + 1][n + 1];\n",
    "        \n",
    "        // 填充 dp 表格\n",
    "        for (int i = 1; i <= m; i++) {\n",
    "            for (int j = 1; j <= n; j++) {\n",
    "                if (text1.charAt(i - 1) == text2.charAt(j - 1)) {\n",
    "                    dp[i][j] = dp[i - 1][j - 1] + 1;\n",
    "                } else {\n",
    "                    dp[i][j] = Math.max(dp[i - 1][j], dp[i][j - 1]);\n",
    "                }\n",
    "            }\n",
    "        }\n",
    "        \n",
    "        return dp[m][n];\n",
    "    }\n",
    "\n",
    "    public static void main(String[] args) {\n",
    "        LCSolution solution = new LCSolution();\n",
    "        String text1 = \"abcde\";\n",
    "        String text2 = \"ace\";\n",
    "        System.out.println(\"Longest Common Subsequence Length: \" + solution.longestCommonSubsequence(text1, text2));\n",
    "    }\n",
    "}\n"
   ]
  },
  {
   "cell_type": "markdown",
   "metadata": {},
   "source": [
    "#### Python 實現"
   ]
  },
  {
   "cell_type": "code",
   "execution_count": 4,
   "metadata": {},
   "outputs": [
    {
     "name": "stdout",
     "output_type": "stream",
     "text": [
      "Longest Common Subsequence Length: 3\n"
     ]
    }
   ],
   "source": [
    "class LCSolution:\n",
    "    def longestCommonSubsequence(self, text1: str, text2: str) -> int:\n",
    "        m, n = len(text1), len(text2)\n",
    "        dp = [[0] * (n + 1) for _ in range(m + 1)]\n",
    "        \n",
    "        # 填充 dp 表格\n",
    "        for i in range(1, m + 1):\n",
    "            for j in range(1, n + 1):\n",
    "                if text1[i - 1] == text2[j - 1]:\n",
    "                    dp[i][j] = dp[i - 1][j - 1] + 1\n",
    "                else:\n",
    "                    dp[i][j] = max(dp[i - 1][j], dp[i][j - 1])\n",
    "        \n",
    "        return dp[m][n]\n",
    "\n",
    "# 測試\n",
    "solution = LCSolution()\n",
    "text1 = \"abcde\"\n",
    "text2 = \"ace\"\n",
    "print(\"Longest Common Subsequence Length:\", solution.longestCommonSubsequence(text1, text2))"
   ]
  },
  {
   "cell_type": "markdown",
   "metadata": {},
   "source": [
    "---------------------------------"
   ]
  },
  {
   "cell_type": "markdown",
   "metadata": {},
   "source": [
    "## 小結\n",
    "\n",
    "動態規劃通過以下步驟將複雜問題拆解為更簡單的子問題：\n",
    "\n",
    "1. **定義狀態**：明確子問題的參數。\n",
    "2. **狀態轉移方程**：確定如何用已解決的子問題的結果來構建大問題的解。\n",
    "3. **初始化**：設置邊界條件或基本情況。\n",
    "4. **計算結果**：填充表格，最終得到問題的解。\n",
    "\n",
    "理解這些步驟後，你將能夠有效地解決許多複雜的最優化問題。\n"
   ]
  }
 ],
 "metadata": {
  "kernelspec": {
   "display_name": "py39",
   "language": "python",
   "name": "python3"
  },
  "language_info": {
   "codemirror_mode": {
    "name": "ipython",
    "version": 3
   },
   "file_extension": ".py",
   "mimetype": "text/x-python",
   "name": "python",
   "nbconvert_exporter": "python",
   "pygments_lexer": "ipython3",
   "version": "3.9.19"
  }
 },
 "nbformat": 4,
 "nbformat_minor": 2
}
